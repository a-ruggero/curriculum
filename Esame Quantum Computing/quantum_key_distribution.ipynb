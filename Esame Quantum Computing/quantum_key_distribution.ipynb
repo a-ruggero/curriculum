{
 "cells": [
  {
   "cell_type": "markdown",
   "metadata": {},
   "source": [
    "# Implementation of the BB84 Protocol for Quantum Key Distribution\n"
   ]
  },
  {
   "cell_type": "markdown",
   "metadata": {},
   "source": [
    "Link to the original code and explanation: https://github.com/qiskit-community/qiskit-community-tutorials/blob/master/Cryptography/QuantumKeyDistribution.ipynb"
   ]
  },
  {
   "cell_type": "markdown",
   "metadata": {},
   "source": [
    "In crypthography, key exchange between involved parties must happen without losing confidentiality, availability and integrity.\n",
    "Often, it is necessary to use a public channel to exchange keys, which may be exposed to many risks.\n",
    "A diffused method for this is ciphering the key with public/asymmetric cripthography methods.\n",
    "This key will be used to cipher messages, generally using symmetric cripthography methods.\n",
    "\n",
    "The most used algorithm for key distribution is RSA, but now that we have quantum computers and new algorithms, new security measures are needed.\n",
    "For example, Shor's algorithm threathens the use of RSA, as it can easily calculate the secret prime numbers that must remain confidential for the security of an RSA key.\n",
    "Also other asymmetric cripthography methods are now threatened.\n",
    "\n",
    "Therefore, it's crucial to find new alternatives for key distribution, like the BB84 protocol.\n",
    "\n",
    "An important advantage of BB84 is given by using a quantum system: if an attacker intercepts the exchange, they cannot read the key, as it would mean measuring it. Measuring would make the system collapse into a classical state. This would lead to a relevant loss of information. Plus, all parties involved would notice the anomaly, unlike it often happens in classical computer science, where you can't always be sure your password has not been discovered by an eavesdropper, for example, until they do something to lead the integrity or the availability of related services.\n",
    "Noticing the key has been intercepted, another key could be easily encryptend and sent again.\n",
    "If the key has not been intercepted, all parties involved will have a new secret key, useful to encrypt messages, usually using symmetric cripthography methods.\n",
    "\n",
    "To make BB84 work correctly, some requirements must be met:\n",
    "- All parties must have access to their own quantum computer.\n",
    "- They must have a communication channel capable of transmitting qubits.\n",
    "- They must have a classical communication channel.\n",
    "\n",
    "Since it is impossible to ensure perfect security, we must assume that any of these channels can be tapped into by an attacker.\n",
    "\n",
    "If Alice and Bob want to exchange a key, in a nutshell:\n",
    "\n",
    "- Alice creates a random string of bits, and for each bit, she randomly chooses a basis to encode it in.\n",
    "- Alice encodes the bits into qubits using her chosen bases, and sends the qubits over a quantum communication channel to Bob's quantum computer.\n",
    "- Bob also randomly chooses a basis to decode each qubit in. He measures each qubit in the bases he chose.\n",
    "- Alice uses a classical communication channel to tell Bob which bases she chose. She also tells him the first few bits she sent.\n",
    "- Bob analyzes these first few bits to determine whether Eve tapped into their quantum communication channel and intercepted Alice's qubits.\n",
    "- If Eve did not intercept the qubits, they consider all of the qubits that they happened to choose the same bases for, and use those bits as their key. If Eve did intercept the qubits, they repeat the process all over again."
   ]
  },
  {
   "cell_type": "markdown",
   "metadata": {},
   "source": [
    "## 0. Preparation\n",
    "- Imports\n",
    "- Preparation of simulator and connection to the real quantum computer"
   ]
  },
  {
   "cell_type": "code",
   "execution_count": 1,
   "metadata": {},
   "outputs": [],
   "source": [
    "#Importing Qiskit\n",
    "from qiskit import *\n",
    "#from qiskit.tools.visualization import plot_bloch_multivector #(deprecated)\n",
    "from qiskit.visualization import plot_bloch_multivector\n",
    "\n",
    "#For the execution of the code on the simulator and on a real quantum computer\n",
    "from qiskit_aer import Aer\n",
    "from qiskit_ibm_runtime import QiskitRuntimeService, SamplerV2 as Sampler\n",
    "\n",
    "# importing other useful libraries\n",
    "import sys\n",
    "import random\n",
    "import csv #to save results in a csv file\n",
    "import datetime #to manage timestamps\n",
    "import os #to check if a file for saving results already exists\n",
    "\n",
    "#Constants\n",
    "\n",
    "#Preparing to save elaborations on csv file\n",
    "elaborations = [] #this will contain all the dictionaries that will be added with .append\n",
    "dataForCSVFile = {} #this will contain the current elaboration\n",
    "dataForCSVFile[\"KEY_LENGTH\"] = 'None'\n",
    "dataForCSVFile[\"job_id\"] = 'simulator' #default\n",
    "dataForCSVFile[\"fina_key_len\"] = 'None'\n",
    "dataForCSVFile[\"attack_noticed\"] = 'not to consider' #default for same reason\n",
    "dataForCSVFile[\"timestamp\"] = 'not saved'"
   ]
  },
  {
   "cell_type": "code",
   "execution_count": 2,
   "metadata": {},
   "outputs": [],
   "source": [
    "def check_saved_credentials():\n",
    "    if (input(\"Do you want to use an account that is already on the computer? Enter 'y' for yes and 'n' for no\") == \"n\"):\n",
    "        return input(\"Enter your token once so it can be used for the whole execution: \")\n",
    "    else:\n",
    "        print(\"Credentials will be checked at the moment of execution.\")\n",
    "        return None"
   ]
  },
  {
   "cell_type": "code",
   "execution_count": 3,
   "metadata": {},
   "outputs": [
    {
     "name": "stdout",
     "output_type": "stream",
     "text": [
      "Run the program on the simulator or on the quantum computer?\n",
      "You entered:  0\n",
      "Execution will be on: simulator\n"
     ]
    }
   ],
   "source": [
    "# Choose where to execute the program\n",
    "\n",
    "print(\"Run the program on the simulator or on the quantum computer?\")\n",
    "value = input(\"Enter 0 to use the simulator. Enter 1 to use the first available real quantum computer. Enter a value: \")\n",
    "print(\"You entered: \", value)\n",
    "\n",
    "executeOnWhichDevice = \"simulator\" #possible values: \"simulator\" (default), \"real_quantum_computer\"\n",
    "given_token = None #default value, only needed with real quantum computer\n",
    "\n",
    "if value == \"1\":\n",
    "    executeOnWhichDevice = \"real_quantum_computer\"\n",
    "\n",
    "    #Asks the user to give their token\n",
    "    given_token = check_saved_credentials()\n",
    "\n",
    "elif value != \"0\":\n",
    "    print(\"Simulator has been chosen by default for the execution.\")\n",
    "\n",
    "print(\"Execution will be on: \" + executeOnWhichDevice)\n"
   ]
  },
  {
   "cell_type": "code",
   "execution_count": 4,
   "metadata": {},
   "outputs": [
    {
     "name": "stdout",
     "output_type": "stream",
     "text": [
      "How long will the key be?\n",
      "You entered:  e\n",
      "Length of the key: 500\n"
     ]
    }
   ],
   "source": [
    "#Choose key length\n",
    "\n",
    "KEY_LENGTH = 500 #default\n",
    "\n",
    "print(\"How long will the key be?\")\n",
    "value = input(\"Enter an integer or 'e' to use length given in the example. Enter a value: \")\n",
    "print(\"You entered: \", value)\n",
    "\n",
    "if value == \"e\":\n",
    "    KEY_LENGTH = 500\n",
    "else:\n",
    "    try:\n",
    "        KEY_LENGTH = int(value)\n",
    "    except ValueError:\n",
    "        print(\"Value not valid. Key length will be chosen by default.\")\n",
    "\n",
    "dataForCSVFile[\"KEY_LENGTH\"] = KEY_LENGTH\n",
    "\n",
    "print(\"Length of the key: \" + str(KEY_LENGTH))"
   ]
  },
  {
   "cell_type": "code",
   "execution_count": 5,
   "metadata": {},
   "outputs": [],
   "source": [
    "#Definition of useful functions\n",
    "\n",
    "def executeOnQuantumMachine_simulator(qc,backend=''):\n",
    "\n",
    "    # Esecuzione del circuito quantistico\n",
    "    simulator = Aer.get_backend(backend)\n",
    "    result = simulator.run(qc).result()\n",
    "    \n",
    "    return result\n",
    "\n",
    "def executeOnRealQuantumComputer(qc):\n",
    "\n",
    "    try:\n",
    "        \n",
    "        service = None\n",
    "\n",
    "        if given_token is not None:\n",
    "            service = QiskitRuntimeService(channel=\"ibm_quantum\", token=given_token)\n",
    "        else:\n",
    "            service = QiskitRuntimeService(channel=\"ibm_quantum\")\n",
    "\n",
    "        backend = service.least_busy(operational=True, simulator=False)\n",
    "\n",
    "        # Trasponi il circuito per il backend\n",
    "        qc_transpiled = transpile(qc, backend)\n",
    "\n",
    "        sampler = Sampler(backend)\n",
    "\n",
    "        print(\"The next job will begin...\")\n",
    "\n",
    "        \n",
    "        job = sampler.run([qc_transpiled])\n",
    "        print(f\"job id: {job.job_id()}\")\n",
    "        dataForCSVFile[\"job_id\"] = job.job_id()\n",
    "        result = job.result()\n",
    "\n",
    "        print(\"Current job ended. Returning the result...\")\n",
    "\n",
    "        return result\n",
    "    \n",
    "    except Exception as e:\n",
    "        print(\"An error occurred:\")\n",
    "        print(e)\n",
    "        return None\n",
    "\n",
    "def executeCode(executeOnWhichDevice, qc, backend):\n",
    "    #possible values: \"simulator\" (default), \"real_quantum_computer\"\n",
    "    if qc == None:\n",
    "        print(\"Empty circuit, returning None\")\n",
    "        return None\n",
    "    elif executeOnWhichDevice == \"simulator\":\n",
    "        return executeOnQuantumMachine_simulator(qc,backend)\n",
    "    elif executeOnWhichDevice == \"real_quantum_computer\":\n",
    "        return executeOnRealQuantumComputer(qc)\n",
    "    else:\n",
    "        print(\"Simulator has been chosen by default for the execution.\")\n",
    "        return executeOnQuantumMachine_simulator(qc,'qasm_simulator')\n"
   ]
  },
  {
   "cell_type": "code",
   "execution_count": 6,
   "metadata": {},
   "outputs": [],
   "source": [
    "FILE_NAME = str(input(\"Insert the name of the file (including the path) where to save your results (pressing enter will lead to use the default location, the current folder, and a default name for your file: results_of_executions.csv):\"))\n",
    "if not FILE_NAME:\n",
    "    FILE_NAME = os.getcwd() + \"\\\\results_of_executions.csv\"\n",
    "\n",
    "# Writing (appending to already existing recorded elaborations) to csv file given the name of the file and a list of dictionaries\n",
    "def writeOnCSVFile(filename, elaborations):\n",
    "    print(\"Writing on \" + filename + \"...\")\n",
    "    try:\n",
    "        mode = 'a' if os.path.exists(filename) else 'w'\n",
    "        with open(filename, mode) as csvfile:\n",
    "            # Create a csv writer object\n",
    "            writer = csv.DictWriter(csvfile, fieldnames = elaborations[0].keys())\n",
    "            \n",
    "            if mode == 'w':\n",
    "                # Write the header only if a new file is created\n",
    "                writer.writeheader()\n",
    "            \n",
    "            # Write the data\n",
    "            for data in elaborations:\n",
    "                writer.writerow(data)\n",
    "        print(\"Data saved correctly into \" + filename + \" \")\n",
    "    except Exception as e:\n",
    "        print(\"Error: \" + str(e))\n",
    "\n",
    "# A function to save timestamps\n",
    "def saveTimestamp():\n",
    "    # Get the current date and time\n",
    "    now = datetime.datetime.now()\n",
    "\n",
    "    # Format the date and time as a string\n",
    "    timestamp = now.strftime(\"%Y-%m-%d %H:%M:%S\")\n",
    "\n",
    "    return timestamp\n"
   ]
  },
  {
   "cell_type": "markdown",
   "metadata": {},
   "source": [
    "## 1. Choosing a base and encrypting the key"
   ]
  },
  {
   "cell_type": "markdown",
   "metadata": {},
   "source": [
    "The first step is for Alice to choose a string of bits and bases to encode them in.\n",
    "We can represent a qubit as a vector on a \"Bloch Sphere\". Each axis can be considered a possible bases.\n"
   ]
  },
  {
   "cell_type": "code",
   "execution_count": 7,
   "metadata": {},
   "outputs": [],
   "source": [
    "qc = QuantumCircuit(2)\n",
    "qc.x(1)\n",
    "try:\n",
    "    result = executeCode(\"simulator\",qc,'statevector_simulator') #statevector only works on simulator\n",
    "    statevector = result.get_statevector()\n",
    "    plot_bloch_multivector(statevector)\n",
    "except Exception as e:\n",
    "    print(\"Error in generating bloch sphere 1\")\n",
    "    print(e)"
   ]
  },
  {
   "cell_type": "markdown",
   "metadata": {},
   "source": [
    "Another base we can use is the X-basis, which lies on the X-axis."
   ]
  },
  {
   "cell_type": "code",
   "execution_count": 8,
   "metadata": {},
   "outputs": [],
   "source": [
    "qc = QuantumCircuit(2)\n",
    "qc.h(0)\n",
    "qc.x(1)\n",
    "qc.h(1)\n",
    "try:\n",
    "    result = executeCode(\"simulator\",qc,'statevector_simulator')\n",
    "    statevector = result.get_statevector()\n",
    "    plot_bloch_multivector(statevector)\n",
    "except Exception as e:\n",
    "    print(\"Error in generating bloch sphere 1\")\n",
    "    print(e)"
   ]
  },
  {
   "cell_type": "markdown",
   "metadata": {},
   "source": [
    "Now, we have two different ways to encode a 0, and two different ways to encode a 1.\n",
    "Alice randomly creates a string of, for example, 500 bits. (EDIT: But you can also choose another value at the beginning of the execution)\n",
    "She can do this by flipping a coin and writing down 0 everytime she lands on heads and 1 everytime she lands on tails.\n"
   ]
  },
  {
   "cell_type": "code",
   "execution_count": 9,
   "metadata": {},
   "outputs": [
    {
     "name": "stdout",
     "output_type": "stream",
     "text": [
      "The bits Alice is going to send are: 1000011110...\n"
     ]
    }
   ],
   "source": [
    "# Preparation for encoding\n",
    "#KEY_LENGTH = 500 #the value of the key in the example\n",
    "\n",
    "#random.seed(0) # Seed the random number generator. This will be used as our \"coin flipper\".\n",
    "\n",
    "# Generating a random string of bits\n",
    "alice_bits = \"\"\n",
    "for i in range(KEY_LENGTH):\n",
    "    randBit = random.randint(0, 1) # Flip Coin\n",
    "    alice_bits += str(randBit) # Add randomly chosen bit to the bit string.\n",
    "\n",
    "print(\"The bits Alice is going to send are: \" + alice_bits[:10] + \"...\")"
   ]
  },
  {
   "cell_type": "markdown",
   "metadata": {},
   "source": [
    "Then, Alice randomly chooses a basis of each bit.\n",
    "She can do this by flipping a coin and writing down Z everytime she lands on heads and X everytime she lands on tails.\n"
   ]
  },
  {
   "cell_type": "code",
   "execution_count": 10,
   "metadata": {},
   "outputs": [
    {
     "name": "stdout",
     "output_type": "stream",
     "text": [
      "The bases Alice is going to encode them in are: XXZZXXXXZZ...\n"
     ]
    }
   ],
   "source": [
    "def generate_random_bases(num_of_bases):\n",
    "    \"\"\"This function selects a random basis for each bit\"\"\"\n",
    "    bases_string = \"\"\n",
    "    for i in range(num_of_bases):\n",
    "        randBasis = random.randint(0, 1) # Flip Coin\n",
    "\n",
    "        if randBasis == 0:\n",
    "            bases_string += \"Z\" \n",
    "        else:\n",
    "            bases_string += \"X\"\n",
    "            \n",
    "    return bases_string\n",
    "\n",
    "alice_bases = generate_random_bases(KEY_LENGTH) # Alice randomly chooses a basis for each bit.\n",
    "\n",
    "print(\"The bases Alice is going to encode them in are: \" + alice_bases[:10] + \"...\")"
   ]
  },
  {
   "cell_type": "markdown",
   "metadata": {},
   "source": [
    "Now, Alice encodes each bit into its corresponding basis on her quantum computer, creating a string of 500 qubits. She sends these qubits over an optical cable to Bob.\n",
    "\n",
    "By default, quantum computers measure in the Z-basis and all qubits are initialized to |0>. To turn this into an |1>, we need to apply an X gate.\n",
    "\n",
    "To encode in the X-basis, we start with the corresponding |0> or |1> and then apply a Hadamard gate to convert |0> in |+> and |1> into |->.\n",
    "\n",
    "- | Bit: 0 | Basis: Z | Qubit state: |0> | Gate required: none     |\n",
    "- | Bit: 1 | Basis: Z | Qubit state: |1> | Gate required: X        |\n",
    "- | Bit: 0 | Basis: X | Qubit state: |+> | Gate required: H        |\n",
    "- | Bit: 1 | Basis: X | Qubit state: |-> | Gate required: X then H |\n",
    "\n",
    "We'll store the quantum circuit used to encode each qubit."
   ]
  },
  {
   "cell_type": "code",
   "execution_count": 11,
   "metadata": {},
   "outputs": [
    {
     "name": "stdout",
     "output_type": "stream",
     "text": [
      "     ┌───┐┌───┐\n",
      "  q: ┤ X ├┤ H ├\n",
      "     └───┘└───┘\n",
      "c: 1/══════════\n",
      "               \n",
      "     ┌───┐\n",
      "  q: ┤ H ├\n",
      "     └───┘\n",
      "c: 1/═════\n",
      "          \n",
      "     \n",
      "  q: \n",
      "     \n",
      "c: 1/\n",
      "     \n",
      "     \n",
      "  q: \n",
      "     \n",
      "c: 1/\n",
      "     \n",
      "     ┌───┐\n",
      "  q: ┤ H ├\n",
      "     └───┘\n",
      "c: 1/═════\n",
      "          \n",
      "etc.\n"
     ]
    }
   ],
   "source": [
    "def encode(bits, bases):\n",
    "    #This function encodes each bit into the given basis.\n",
    "    \n",
    "    encoded_qubits = []\n",
    "    \n",
    "    for bit, basis in zip(bits, bases):\n",
    "        qc = QuantumCircuit(1, 1) # Create a quantum circuit for each qubit\n",
    "        \n",
    "        # Possible Cases\n",
    "        if bit==\"0\" and basis == \"Z\":\n",
    "            encoded_qubits.append(qc) # Do not apply any gates\n",
    "\n",
    "        elif bit==\"1\" and basis == \"Z\":\n",
    "            qc.x(0) # Apply X Gate\n",
    "            encoded_qubits.append(qc)\n",
    "\n",
    "        elif bit==\"0\" and basis == \"X\":\n",
    "            qc.h(0) # Apply H Gate\n",
    "            encoded_qubits.append(qc)\n",
    "\n",
    "        elif bit==\"1\" and basis == \"X\":\n",
    "            qc.x(0) # Apply X Gate\n",
    "            qc.h(0) # Apply H Gate\n",
    "            encoded_qubits.append(qc)\n",
    "            \n",
    "    return (encoded_qubits)\n",
    "\n",
    "# Encode Alice's bits\n",
    "encoded_qubits = encode(alice_bits, alice_bases)\n",
    "\n",
    "# Print circuits for first 5 qubits.\n",
    "for i in range(5):\n",
    "    print(encoded_qubits[i])\n",
    "print(\"etc.\")"
   ]
  },
  {
   "cell_type": "markdown",
   "metadata": {},
   "source": [
    "## 2. Sending the qubits"
   ]
  },
  {
   "cell_type": "markdown",
   "metadata": {},
   "source": [
    "Normally, Alice would send these encoded qubits over a quantum channel, such as an optical fibre cable. However, since we don't have quantum channels in the real world yet, we'll store the circuits for each qubit in an array called QUANTUM_CHANNEL for the sake of demonstration. This would be like if Alice stored the qubits in a building and waited for Bob to pick them up. Of course, just like a fibre optic cable, this building is also a location where Eve might intercept the message."
   ]
  },
  {
   "cell_type": "code",
   "execution_count": 12,
   "metadata": {},
   "outputs": [],
   "source": [
    "QUANTUM_CHANNEL = encoded_qubits"
   ]
  },
  {
   "cell_type": "markdown",
   "metadata": {},
   "source": [
    "## 3. Measurement"
   ]
  },
  {
   "cell_type": "markdown",
   "metadata": {},
   "source": [
    "The next step is for Bob to receive the encoded qubits and measure them. First, he must choose his own set of random bases, just like Alice."
   ]
  },
  {
   "cell_type": "code",
   "execution_count": 13,
   "metadata": {},
   "outputs": [
    {
     "name": "stdout",
     "output_type": "stream",
     "text": [
      "The bases Bob is going to decode them in are: XZXZXZXXZZ...\n"
     ]
    }
   ],
   "source": [
    "bob_bases = generate_random_bases(KEY_LENGTH) # Bob randomly chooses a basis for each bit.\n",
    "\n",
    "print(\"The bases Bob is going to decode them in are: \" + bob_bases[:10] + \"...\")"
   ]
  },
  {
   "cell_type": "markdown",
   "metadata": {},
   "source": [
    "Then, Bob must measure each Qubit in the corresponding bases he chose. In Qiskit, this can be accomplished by adding a measurement gate to the circuit for each encoded qubit, and then executing it. However, IBM's quantum computers measure in the Z-basis by default, so to measure in the X-basis we must apply a Hadamard gate before our measurement gate."
   ]
  },
  {
   "cell_type": "code",
   "execution_count": 14,
   "metadata": {},
   "outputs": [
    {
     "name": "stdout",
     "output_type": "stream",
     "text": [
      "The first few bits Bob received are: 1000011110...\n"
     ]
    }
   ],
   "source": [
    "def measure(qubits, bases):\n",
    "        \"\"\"This function measures each qubit in the corresponding basis chosen for it.\"\"\"\n",
    "\n",
    "        bits = \"\" # The results of measurements\n",
    "\n",
    "        for qubit, basis in zip(qubits, bases):\n",
    "\n",
    "            # Add measurement depending on basis\n",
    "            if basis == \"Z\":\n",
    "                qubit.measure(0, 0)\n",
    "            elif basis == \"X\":\n",
    "                qubit.h(0)\n",
    "                qubit.measure(0, 0)\n",
    "            \n",
    "            measured_bit = None\n",
    "\n",
    "            result = executeCode(executeOnWhichDevice,qubit,'qasm_simulator') #'qasm_simulator' is only needed when executeOnWhichDevice=\"simulator\"\n",
    "\n",
    "            if result is None:\n",
    "                print(\"An error occurred during the execution. Stopping the execution of the program...\")\n",
    "                sys.exit(1) #in case of an error, the program will be terminated and you'll need to execute it again from the start.\n",
    "\n",
    "            if executeOnWhichDevice==\"real_quantum_computer\":\n",
    "\n",
    "                print(len(qubits))\n",
    "                c = ClassicalRegister(len(qubits), 'c')\n",
    "\n",
    "                counts = result[0].data.c.get_counts()\n",
    "                measured_bit = max(counts, key=counts.get) # Max doesn't matter for simulator since there is only one shot.\n",
    "            \n",
    "            else:\n",
    "                counts = result.get_counts()\n",
    "                measured_bit = max(counts, key=counts.get) # Max doesn't matter for simulator since there is only one shot.\n",
    "\n",
    "            bits += measured_bit\n",
    "            \n",
    "        return bits\n",
    "\n",
    "\n",
    "qubits_received = QUANTUM_CHANNEL # Receive qubits from quantum channel\n",
    "bob_bits = measure(qubits_received, bob_bases)\n",
    "\n",
    "print(\"The first few bits Bob received are: \" + bob_bits[:10] + \"...\")\n",
    "\n"
   ]
  },
  {
   "cell_type": "markdown",
   "metadata": {},
   "source": [
    "## 4. Comparison"
   ]
  },
  {
   "cell_type": "markdown",
   "metadata": {},
   "source": [
    "Now, Alice needs to tell Bob which bases she chose to encode her qubits in. She can tell him over any classical channel. The beauty of this protocol is that it doesn't matter if Eve finds out which bases Alice used."
   ]
  },
  {
   "cell_type": "code",
   "execution_count": 15,
   "metadata": {},
   "outputs": [],
   "source": [
    "CLASSICAL_CHANNEL = alice_bases # Alice tells Bob which bases she used"
   ]
  },
  {
   "cell_type": "markdown",
   "metadata": {},
   "source": [
    "For each of the qubits where Alice and Bob chose different bases, there is a 50% chance Bob's measurement returned the wrong qubit. For example, If Alice sent Bob a qubit in the |+> state (i.e., a bit value of 0 encoded in the X-basis), and Bob measures in the Z-basis, there is a 50% chance he will get a \n",
    "|0> and a 50% chance he will get a |1>. Thus, every instance where their bases don't match is useless to them, so Bob needs to find the bases they share in common."
   ]
  },
  {
   "cell_type": "code",
   "execution_count": 16,
   "metadata": {},
   "outputs": [
    {
     "name": "stdout",
     "output_type": "stream",
     "text": [
      "The indices of the first 10 bases they share in common are: [0, 3, 4, 6, 7, 8, 9, 10, 11, 13]\n"
     ]
    }
   ],
   "source": [
    "# Store the indices of the bases they share in common\n",
    "common_bases = [i for i in range(KEY_LENGTH) if CLASSICAL_CHANNEL[i]==bob_bases[i]]\n",
    "\n",
    "print(\"The indices of the first 10 bases they share in common are: \" + str(common_bases[:10]))"
   ]
  },
  {
   "cell_type": "markdown",
   "metadata": {},
   "source": [
    "Now that Bob knows the bases they share in common, he can discard all the rest of the bits, and only keep the ones that were measured in the same bases."
   ]
  },
  {
   "cell_type": "code",
   "execution_count": 17,
   "metadata": {},
   "outputs": [],
   "source": [
    "bob_bits = [bob_bits[index] for index in common_bases]"
   ]
  },
  {
   "cell_type": "markdown",
   "metadata": {},
   "source": [
    "\n",
    "He also tells Alice which bases they had in common, so that she can discard the rest of the bits as well, keeping only the bits that were measured in the same bases that she encoded them in."
   ]
  },
  {
   "cell_type": "code",
   "execution_count": 18,
   "metadata": {},
   "outputs": [],
   "source": [
    "CLASSICAL_CHANNEL = common_bases # Bob tells Alice which bases they shared in common\n",
    "alice_bits = [alice_bits[index] for index in common_bases] # Alice keeps only the bits they shared in common"
   ]
  },
  {
   "cell_type": "markdown",
   "metadata": {},
   "source": [
    "Since Alice and Bob are only keeping the bits measured in the bases they shared in common, they should have the same bits. To make sure this is the case, Alice will announce the first few bits that she has, and Bob should have the same ones. Of course, if Eve were trying to eavesdrop, she would also hear these first few bits, so Alice and Bob would have to discard them as well (after comparing to make sure they're the same as what they expect)."
   ]
  },
  {
   "cell_type": "code",
   "execution_count": 19,
   "metadata": {},
   "outputs": [
    {
     "name": "stdout",
     "output_type": "stream",
     "text": [
      "Yep, Alice and Bob seem to have the same bits!\n"
     ]
    }
   ],
   "source": [
    "CLASSICAL_CHANNEL = alice_bits[:100] # Alice tells Bob the first 100 bits she has left.\n",
    "\n",
    "# Bob checks if they match the first 100 bits that he has\n",
    "if CLASSICAL_CHANNEL == bob_bits[:100]:\n",
    "    print(\"Yep, Alice and Bob seem to have the same bits!\")\n",
    "else:\n",
    "    print(\"Uh oh, at least one of the bits is different.\")"
   ]
  },
  {
   "cell_type": "markdown",
   "metadata": {},
   "source": [
    "Since the first 100 bits are the same, Alice and Bob can be fairly certain that the remaining bits also match. Now, they need to discard the first 100 bits, since Eve may have been listening in on the classical channel and keeping track of what they are."
   ]
  },
  {
   "cell_type": "code",
   "execution_count": 20,
   "metadata": {},
   "outputs": [],
   "source": [
    "alice_bits = alice_bits[100:] # Alice discards the first 100 bits\n",
    "bob_bits = bob_bits[100:] # Alice discards the first 100 bits"
   ]
  },
  {
   "cell_type": "markdown",
   "metadata": {},
   "source": [
    "These remaining bits are the key that Alice and Bob need to set up an encrypted communication channel! Now they can communicate without worrying about their messages being read by someone else."
   ]
  },
  {
   "cell_type": "code",
   "execution_count": 21,
   "metadata": {},
   "outputs": [
    {
     "name": "stdout",
     "output_type": "stream",
     "text": [
      "Shhhhh, the key is:\n",
      "1000000101000111010001100100100000110100011000001111011100100111000000001100000100100011100010101111010111100011000111000010011001110010100001101100100010001000110011\n",
      "Don't tell anyone!\n",
      "\n",
      "The key is 166 bits long.\n",
      "Writing on C:\\Users\\ruggy\\qiskit_projects\\per_esame\\csv files (older executions)\\results_of_executions_8th_file.csv...\n",
      "Data saved correctly into C:\\Users\\ruggy\\qiskit_projects\\per_esame\\csv files (older executions)\\results_of_executions_8th_file.csv \n"
     ]
    }
   ],
   "source": [
    "key = \"\" \n",
    "for bit in alice_bits: # Or bob_bits, since both should be the same\n",
    "    key += bit\n",
    "    \n",
    "dataForCSVFile[\"fina_key_len\"] = len(key)\n",
    "\n",
    "print(\"Shhhhh, the key is:\")\n",
    "print(str(key))\n",
    "print(\"Don't tell anyone!\")\n",
    "\n",
    "print(\"\\nThe key is \" + str(len(key)) + \" bits long.\")\n",
    "\n",
    "dataForCSVFile[\"timestamp\"] = saveTimestamp()\n",
    "writeOnCSVFile(FILE_NAME,[dataForCSVFile])"
   ]
  },
  {
   "cell_type": "markdown",
   "metadata": {},
   "source": [
    "The length of the key varies depending on how many bases they share in common."
   ]
  },
  {
   "cell_type": "markdown",
   "metadata": {},
   "source": [
    "# Interception"
   ]
  },
  {
   "cell_type": "markdown",
   "metadata": {},
   "source": [
    "So far, we've only looked at the case where no one spying on Alice and Bob. But what if someone like Eve tries to intercept their key? Let's see what happens in this case.\n",
    "\n",
    "First, Alice performs the encoding step as usual: she randomly generates a string of bits and bases to encode them in. She then sends the encoded qubits along a quantum channel (fibre-optic cable) to Bob."
   ]
  },
  {
   "cell_type": "code",
   "execution_count": 22,
   "metadata": {},
   "outputs": [],
   "source": [
    "# Generating a random string of bits\n",
    "alice_bits = \"\"\n",
    "for i in range(KEY_LENGTH):\n",
    "    randBit = random.randint(0, 1) # Flip Coin\n",
    "    alice_bits += str(randBit) # Add randomly chosen bit to the bit string.\n",
    "\n",
    "# Alice randomly chooses a basis for each bit.\n",
    "alice_bases = generate_random_bases(KEY_LENGTH)\n",
    "\n",
    "# Encode Alice's bits\n",
    "encoded_qubits = encode(alice_bits, alice_bases)\n",
    "\n",
    "QUANTUM_CHANNEL = encoded_qubits"
   ]
  },
  {
   "cell_type": "markdown",
   "metadata": {},
   "source": [
    "## Interception by Eve\n",
    "This time, the qubits are intercepted by Eve. Let's show what she would do. First, she would randomly choose a set of bases to measure the qubits in (since she has no idea which bases Alice used). Then, she'll perform the measurements. This is similar to what Bob would normally do."
   ]
  },
  {
   "cell_type": "code",
   "execution_count": 23,
   "metadata": {},
   "outputs": [],
   "source": [
    "qubits_intercepted = QUANTUM_CHANNEL # Intercept qubits\n",
    "eve_bases = generate_random_bases(KEY_LENGTH) # Generate a random set of bases\n",
    "eve_bits = measure(qubits_intercepted, eve_bases) # Measure the qubits"
   ]
  },
  {
   "cell_type": "markdown",
   "metadata": {},
   "source": [
    "Because of the No-Cloning Theorem of Quantum Mechanics, Eve cannot just copy the qubits over from the quantum channel. Thus, Bob will never receive the qubits, making it obvious to him and Alice that their message was intercepted. To prevent them from realizing what has happened, Eve must create her own decoy qubits to send to Bob. Since she has no idea which bases Alice used, she has to generate the bases randomly. This is similar to what Alice originally did when she encoded the qubits.\n",
    "\n",
    "Eve might generate an entirely new set of bases, or she might just use the same ones she used to measure the qubits. For simplicity, let's assume the bases she used to intercept the qubits are the same bases she uses to encode her decoy qubits."
   ]
  },
  {
   "cell_type": "code",
   "execution_count": 24,
   "metadata": {},
   "outputs": [],
   "source": [
    "# Eve encodes her decoy qubits and sends them along the quantum channel\n",
    "QUANTUM_CHANNEL = encode(eve_bits, eve_bases)"
   ]
  },
  {
   "cell_type": "markdown",
   "metadata": {},
   "source": [
    "Bob then performs his usual steps: selecting a measurement bases and measuring the qubits. He doesn't know that Eve has intercepted them yet."
   ]
  },
  {
   "cell_type": "code",
   "execution_count": 25,
   "metadata": {},
   "outputs": [],
   "source": [
    "bob_bases = generate_random_bases(KEY_LENGTH) # Bob randomly chooses a basis for each bit.\n",
    "qubits_received = QUANTUM_CHANNEL # Receive qubits from quantum channel\n",
    "bob_bits = measure(qubits_received, bob_bases)"
   ]
  },
  {
   "cell_type": "markdown",
   "metadata": {},
   "source": [
    "## Comparison\n",
    "Again, Alice needs to tells Bob which bases she chose to encode her qubits in. She can tells him over any classical channel (perhaps even publicly on Twitter). Since this classical channel is public, Eve also knows which bases she used."
   ]
  },
  {
   "cell_type": "code",
   "execution_count": 26,
   "metadata": {},
   "outputs": [],
   "source": [
    "CLASSICAL_CHANNEL = alice_bases # Alice tells Bob which bases she used"
   ]
  },
  {
   "cell_type": "markdown",
   "metadata": {},
   "source": [
    "As usual, Bob checks which bases they share in common. He discards the bits that were not measured in the same bases and keeps the ones that were measured in the same bases Alice encoded them in."
   ]
  },
  {
   "cell_type": "code",
   "execution_count": 27,
   "metadata": {},
   "outputs": [],
   "source": [
    "# Store the indices of the bases they share in common\n",
    "common_bases = [i for i in range(KEY_LENGTH) if CLASSICAL_CHANNEL[i]==bob_bases[i]]\n",
    "bob_bits = [bob_bits[index] for index in common_bases]"
   ]
  },
  {
   "cell_type": "markdown",
   "metadata": {},
   "source": [
    "He then tells Alice the indices of the bases they shared in common so that she can do the same."
   ]
  },
  {
   "cell_type": "code",
   "execution_count": 28,
   "metadata": {},
   "outputs": [],
   "source": [
    "CLASSICAL_CHANNEL = common_bases # Bob tells Alice which bases they shared in common\n",
    "alice_bits = [alice_bits[index] for index in common_bases] # Alice keeps only the bits they shared in common"
   ]
  },
  {
   "cell_type": "markdown",
   "metadata": {},
   "source": [
    "## Waiiiiiiit a Second...\n",
    "Since Alice and Bob are only keeping the bits measured in the bases they shared in common, they should have the same bits. To make sure this is the case, Alice will announce the first few bits that she has, and Bob should have the same ones."
   ]
  },
  {
   "cell_type": "code",
   "execution_count": 29,
   "metadata": {},
   "outputs": [
    {
     "name": "stdout",
     "output_type": "stream",
     "text": [
      "Uh oh, at least one of the bits is different.\n",
      "Writing on C:\\Users\\ruggy\\qiskit_projects\\per_esame\\csv files (older executions)\\results_of_executions_8th_file.csv...\n",
      "Data saved correctly into C:\\Users\\ruggy\\qiskit_projects\\per_esame\\csv files (older executions)\\results_of_executions_8th_file.csv \n"
     ]
    }
   ],
   "source": [
    "CLASSICAL_CHANNEL = alice_bits[:100] # Alice tells Bob the first 100 bits she has left.\n",
    "\n",
    "# Bob checks if they match the first 100 bits that he has\n",
    "if CLASSICAL_CHANNEL == bob_bits[:100]:\n",
    "    print(\"Yep, Alice and Bob seem to have the same bits!\")\n",
    "    dataForCSVFile[\"attack_noticed\"] = 'false'\n",
    "else:\n",
    "    print(\"Uh oh, at least one of the bits is different.\")\n",
    "    dataForCSVFile[\"attack_noticed\"] = 'true'\n",
    "\n",
    "dataForCSVFile[\"timestamp\"] = saveTimestamp()\n",
    "writeOnCSVFile(FILE_NAME,[dataForCSVFile])"
   ]
  },
  {
   "cell_type": "markdown",
   "metadata": {},
   "source": [
    "After comparing the first 100 bits, they see that their bits don't match! Assuming that their is no noise in the quantum channel and quantum computers (which could cause errors), Alice and Bob can be certain that their message was intercepted! Thus, they can throw away all their bits and repeat the same protocol all over again. This time, they might use a different quantum channel in an effort to throw Eve off!"
   ]
  },
  {
   "cell_type": "markdown",
   "metadata": {},
   "source": [
    "# Sources\n",
    "- Qiskit Textbook: https://qiskit.org/textbook/ch-algorithms/quantum-key-distribution.html\n",
    "- Qubit by Qubit's Introduction to Quantum Computing Course"
   ]
  }
 ],
 "metadata": {
  "kernelspec": {
   "display_name": "base",
   "language": "python",
   "name": "python3"
  },
  "language_info": {
   "codemirror_mode": {
    "name": "ipython",
    "version": 3
   },
   "file_extension": ".py",
   "mimetype": "text/x-python",
   "name": "python",
   "nbconvert_exporter": "python",
   "pygments_lexer": "ipython3",
   "version": "3.12.3"
  }
 },
 "nbformat": 4,
 "nbformat_minor": 2
}
